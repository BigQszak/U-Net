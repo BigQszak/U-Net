{
 "cells": [
  {
   "cell_type": "code",
   "execution_count": 11,
   "metadata": {},
   "outputs": [],
   "source": [
    "import numpy as np\n",
    "import pandas as pd\n",
    "import matplotlib.pyplot as plt\n",
    "import os \n",
    "from glob import glob\n",
    "\n",
    "from pathlib import Path\n",
    "\n",
    "import cv2\n",
    "from PIL import Image\n"
   ]
  },
  {
   "cell_type": "code",
   "execution_count": 12,
   "metadata": {},
   "outputs": [],
   "source": [
    "TRAIN_IMG_DIR = os.path.join(Path.cwd(), \"data\", \"train_images\")\n",
    "TRAIN_MASK_DIR = os.path.join(Path.cwd(), \"data\", \"train_masks\")\n",
    "VAL_IMG_DIR = os.path.join(Path.cwd(), \"data\", \"val_images\")\n",
    "VAL_MASK_DIR = os.path.join(Path.cwd(), \"data\", \"val_masks\")\n",
    "\n",
    "TRAIN_MASKS_CSV = os.path.join(Path.cwd(),\"data\", \"train_masks.csv\")\n",
    "METADATA_CSV = os.path.join(Path.cwd(),\"data\", \"metadata.csv\")"
   ]
  },
  {
   "cell_type": "code",
   "execution_count": 13,
   "metadata": {},
   "outputs": [],
   "source": [
    "train_masks_csv = pd.read_csv(TRAIN_MASKS_CSV)\n",
    "metadata_csv = pd.read_csv(METADATA_CSV)"
   ]
  },
  {
   "cell_type": "code",
   "execution_count": null,
   "metadata": {},
   "outputs": [],
   "source": []
  }
 ],
 "metadata": {
  "kernelspec": {
   "display_name": "DeepLearning",
   "language": "python",
   "name": "python3"
  },
  "language_info": {
   "codemirror_mode": {
    "name": "ipython",
    "version": 3
   },
   "file_extension": ".py",
   "mimetype": "text/x-python",
   "name": "python",
   "nbconvert_exporter": "python",
   "pygments_lexer": "ipython3",
   "version": "3.10.12"
  }
 },
 "nbformat": 4,
 "nbformat_minor": 2
}
